{
 "cells": [
  {
   "cell_type": "code",
   "execution_count": 1,
   "metadata": {},
   "outputs": [],
   "source": [
    "import pandas as pd"
   ]
  },
  {
   "cell_type": "markdown",
   "metadata": {},
   "source": [
    "## combine train data"
   ]
  },
  {
   "cell_type": "code",
   "execution_count": 19,
   "metadata": {},
   "outputs": [],
   "source": [
    "with open (\"de/train/train.en\", \"r\") as myfile:\n",
    "    data = myfile.read().splitlines()\n",
    "    \n",
    "with open (\"de/train/train.de\", \"r\") as myfile:\n",
    "    data_de = myfile.read().splitlines()"
   ]
  },
  {
   "cell_type": "code",
   "execution_count": 20,
   "metadata": {},
   "outputs": [],
   "source": [
    "df = pd.DataFrame(data)\n",
    "df_de = pd.DataFrame(data_de)"
   ]
  },
  {
   "cell_type": "code",
   "execution_count": 21,
   "metadata": {},
   "outputs": [],
   "source": [
    "df_de_train = pd.concat([df,df_de], axis = 1)"
   ]
  },
  {
   "cell_type": "code",
   "execution_count": 22,
   "metadata": {},
   "outputs": [],
   "source": [
    "df_de_train.columns = ['en', 'de']"
   ]
  },
  {
   "cell_type": "code",
   "execution_count": 24,
   "metadata": {},
   "outputs": [],
   "source": [
    "df_de_train.to_csv('de/train.csv', index=False)"
   ]
  },
  {
   "cell_type": "code",
   "execution_count": 25,
   "metadata": {},
   "outputs": [],
   "source": [
    "d = pd.read_csv('de/train.csv')"
   ]
  },
  {
   "cell_type": "markdown",
   "metadata": {},
   "source": [
    "## Combine Dev Data"
   ]
  },
  {
   "cell_type": "code",
   "execution_count": 7,
   "metadata": {},
   "outputs": [],
   "source": [
    "with open (\"de/validation/dev.en\", \"r\") as myfile:\n",
    "    data = myfile.read().splitlines()\n",
    "    \n",
    "with open (\"de/validation/dev.de\", \"r\") as myfile:\n",
    "    data_de = myfile.read().splitlines()\n",
    "    \n",
    "df = pd.DataFrame(data)\n",
    "df_de = pd.DataFrame(data_de)\n",
    "df_de_dev = pd.concat([df,df_de], axis = 1)\n",
    "df_de_dev.columns = ['en', 'de']"
   ]
  },
  {
   "cell_type": "code",
   "execution_count": 11,
   "metadata": {},
   "outputs": [
    {
     "data": {
      "text/plain": [
       "'/Users/aakash/Desktop/Machine-Translation-ISWLT/data-mustc'"
      ]
     },
     "execution_count": 11,
     "metadata": {},
     "output_type": "execute_result"
    }
   ],
   "source": [
    "%pwd"
   ]
  },
  {
   "cell_type": "code",
   "execution_count": 12,
   "metadata": {},
   "outputs": [],
   "source": [
    "df_de_dev.to_csv('de/validation.csv', index=False)"
   ]
  },
  {
   "cell_type": "code",
   "execution_count": 14,
   "metadata": {},
   "outputs": [],
   "source": [
    "d = pd.read_csv('de/validation.csv')"
   ]
  },
  {
   "cell_type": "markdown",
   "metadata": {},
   "source": [
    "## Combine Test Data"
   ]
  },
  {
   "cell_type": "code",
   "execution_count": 16,
   "metadata": {},
   "outputs": [],
   "source": [
    "with open (\"de/test/tst-COMMON.en\", \"r\") as myfile:\n",
    "    data = myfile.read().splitlines()\n",
    "    \n",
    "with open (\"de/test/tst-COMMON.de\", \"r\") as myfile:\n",
    "    data_de = myfile.read().splitlines()\n",
    "    \n",
    "df = pd.DataFrame(data)\n",
    "df_de = pd.DataFrame(data_de)\n",
    "df_de_tst = pd.concat([df,df_de], axis = 1)\n",
    "df_de_tst.columns = ['en', 'de']"
   ]
  },
  {
   "cell_type": "code",
   "execution_count": 4,
   "metadata": {},
   "outputs": [],
   "source": [
    "df_de_tst.to_csv('de/combined_en_de_tst.csv', index=False)"
   ]
  },
  {
   "cell_type": "code",
   "execution_count": 5,
   "metadata": {},
   "outputs": [],
   "source": [
    "d = pd.read_csv('de/combined_en_de_tst.csv')"
   ]
  },
  {
   "cell_type": "code",
   "execution_count": 6,
   "metadata": {},
   "outputs": [
    {
     "data": {
      "text/html": [
       "<div>\n",
       "<style scoped>\n",
       "    .dataframe tbody tr th:only-of-type {\n",
       "        vertical-align: middle;\n",
       "    }\n",
       "\n",
       "    .dataframe tbody tr th {\n",
       "        vertical-align: top;\n",
       "    }\n",
       "\n",
       "    .dataframe thead th {\n",
       "        text-align: right;\n",
       "    }\n",
       "</style>\n",
       "<table border=\"1\" class=\"dataframe\">\n",
       "  <thead>\n",
       "    <tr style=\"text-align: right;\">\n",
       "      <th></th>\n",
       "      <th>en</th>\n",
       "      <th>de</th>\n",
       "    </tr>\n",
       "  </thead>\n",
       "  <tbody>\n",
       "    <tr>\n",
       "      <th>0</th>\n",
       "      <td>Back in New York, I am the head of development...</td>\n",
       "      <td>Zu Hause in New York, bin ich Chef der Entwick...</td>\n",
       "    </tr>\n",
       "    <tr>\n",
       "      <th>1</th>\n",
       "      <td>When I'm not fighting poverty, I'm fighting fi...</td>\n",
       "      <td>Wenn ich nicht die Armut bekämpfe, bekämpfe ic...</td>\n",
       "    </tr>\n",
       "    <tr>\n",
       "      <th>2</th>\n",
       "      <td>Now in our town, where the volunteers suppleme...</td>\n",
       "      <td>Nun, in unserer Stadt, in der Freiwillige eine...</td>\n",
       "    </tr>\n",
       "    <tr>\n",
       "      <th>3</th>\n",
       "      <td>I remember my first fire.</td>\n",
       "      <td>Ich erinnere mich an mein erstes Feuer.</td>\n",
       "    </tr>\n",
       "    <tr>\n",
       "      <th>4</th>\n",
       "      <td>I was the second volunteer on the scene, so th...</td>\n",
       "      <td>Ich war der zweite Freiwillige an der Brandste...</td>\n",
       "    </tr>\n",
       "  </tbody>\n",
       "</table>\n",
       "</div>"
      ],
      "text/plain": [
       "                                                  en  \\\n",
       "0  Back in New York, I am the head of development...   \n",
       "1  When I'm not fighting poverty, I'm fighting fi...   \n",
       "2  Now in our town, where the volunteers suppleme...   \n",
       "3                          I remember my first fire.   \n",
       "4  I was the second volunteer on the scene, so th...   \n",
       "\n",
       "                                                  de  \n",
       "0  Zu Hause in New York, bin ich Chef der Entwick...  \n",
       "1  Wenn ich nicht die Armut bekämpfe, bekämpfe ic...  \n",
       "2  Nun, in unserer Stadt, in der Freiwillige eine...  \n",
       "3            Ich erinnere mich an mein erstes Feuer.  \n",
       "4  Ich war der zweite Freiwillige an der Brandste...  "
      ]
     },
     "execution_count": 6,
     "metadata": {},
     "output_type": "execute_result"
    }
   ],
   "source": [
    "d.head()"
   ]
  },
  {
   "cell_type": "code",
   "execution_count": null,
   "metadata": {},
   "outputs": [],
   "source": []
  }
 ],
 "metadata": {
  "kernelspec": {
   "display_name": "Python 3",
   "language": "python",
   "name": "python3"
  },
  "language_info": {
   "codemirror_mode": {
    "name": "ipython",
    "version": 3
   },
   "file_extension": ".py",
   "mimetype": "text/x-python",
   "name": "python",
   "nbconvert_exporter": "python",
   "pygments_lexer": "ipython3",
   "version": "3.8.5"
  }
 },
 "nbformat": 4,
 "nbformat_minor": 4
}
