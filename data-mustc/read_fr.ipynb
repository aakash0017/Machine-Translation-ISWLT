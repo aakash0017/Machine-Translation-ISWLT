{
 "cells": [
  {
   "cell_type": "code",
   "execution_count": 1,
   "metadata": {},
   "outputs": [],
   "source": [
    "import pandas as pd"
   ]
  },
  {
   "cell_type": "markdown",
   "metadata": {},
   "source": [
    "## combine train data"
   ]
  },
  {
   "cell_type": "code",
   "execution_count": 8,
   "metadata": {},
   "outputs": [],
   "source": [
    "with open (\"train/txt/train.en\", \"r\") as myfile:\n",
    "    data = myfile.read().splitlines()\n",
    "    \n",
    "with open (\"train/txt/train.fr\", \"r\") as myfile:\n",
    "    data_fr = myfile.read().splitlines()"
   ]
  },
  {
   "cell_type": "code",
   "execution_count": 13,
   "metadata": {},
   "outputs": [],
   "source": [
    "df = pd.DataFrame(data)\n",
    "df_fr = pd.DataFrame(data_fr)"
   ]
  },
  {
   "cell_type": "code",
   "execution_count": 32,
   "metadata": {},
   "outputs": [],
   "source": [
    "df_fr_train = pd.concat([df,df_fr], axis = 1)"
   ]
  },
  {
   "cell_type": "code",
   "execution_count": 42,
   "metadata": {},
   "outputs": [],
   "source": [
    "df_fr_train.columns = ['en', 'fr']"
   ]
  },
  {
   "cell_type": "code",
   "execution_count": 43,
   "metadata": {},
   "outputs": [
    {
     "data": {
      "text/html": [
       "<div>\n",
       "<style scoped>\n",
       "    .dataframe tbody tr th:only-of-type {\n",
       "        vertical-align: middle;\n",
       "    }\n",
       "\n",
       "    .dataframe tbody tr th {\n",
       "        vertical-align: top;\n",
       "    }\n",
       "\n",
       "    .dataframe thead th {\n",
       "        text-align: right;\n",
       "    }\n",
       "</style>\n",
       "<table border=\"1\" class=\"dataframe\">\n",
       "  <thead>\n",
       "    <tr style=\"text-align: right;\">\n",
       "      <th></th>\n",
       "      <th>en</th>\n",
       "      <th>fr</th>\n",
       "    </tr>\n",
       "  </thead>\n",
       "  <tbody>\n",
       "    <tr>\n",
       "      <th>0</th>\n",
       "      <td>Thank you so much, Chris. And it's truly a gre...</td>\n",
       "      <td>Merci beaucoup, Chris. C'est vraiment un honne...</td>\n",
       "    </tr>\n",
       "    <tr>\n",
       "      <th>1</th>\n",
       "      <td>I have been blown away by this conference, and...</td>\n",
       "      <td>J'ai été très impressionné par cette conférenc...</td>\n",
       "    </tr>\n",
       "    <tr>\n",
       "      <th>2</th>\n",
       "      <td>And I say that sincerely, partly because (Mock...</td>\n",
       "      <td>Et je dis çà sincèrement, en autres parce que ...</td>\n",
       "    </tr>\n",
       "    <tr>\n",
       "      <th>3</th>\n",
       "      <td>(Laughter) I flew on Air Force Two for eight y...</td>\n",
       "      <td>J'ai volé avec Air Force 2 pendant huit ans.</td>\n",
       "    </tr>\n",
       "    <tr>\n",
       "      <th>4</th>\n",
       "      <td>(Laughter) Now I have to take off my shoes or ...</td>\n",
       "      <td>Et maintenant, je dois enlever mes chaussures ...</td>\n",
       "    </tr>\n",
       "    <tr>\n",
       "      <th>...</th>\n",
       "      <td>...</td>\n",
       "      <td>...</td>\n",
       "    </tr>\n",
       "    <tr>\n",
       "      <th>275080</th>\n",
       "      <td>Fungal infections have devastated agriculture ...</td>\n",
       "      <td>Les infections fongiques ont dévastés nos cult...</td>\n",
       "    </tr>\n",
       "    <tr>\n",
       "      <th>275081</th>\n",
       "      <td>Moreover, we are now in an era where the deman...</td>\n",
       "      <td>Nous vivons en outre dans une époque où la dem...</td>\n",
       "    </tr>\n",
       "    <tr>\n",
       "      <th>275082</th>\n",
       "      <td>Our understanding of the molecular mechanism o...</td>\n",
       "      <td>Notre connaissance des mécanismes moléculaires...</td>\n",
       "    </tr>\n",
       "    <tr>\n",
       "      <th>275083</th>\n",
       "      <td>Thank you.</td>\n",
       "      <td>Merci.</td>\n",
       "    </tr>\n",
       "    <tr>\n",
       "      <th>275084</th>\n",
       "      <td>(Applause)</td>\n",
       "      <td>(Applaudissements)</td>\n",
       "    </tr>\n",
       "  </tbody>\n",
       "</table>\n",
       "<p>275085 rows × 2 columns</p>\n",
       "</div>"
      ],
      "text/plain": [
       "                                                       en  \\\n",
       "0       Thank you so much, Chris. And it's truly a gre...   \n",
       "1       I have been blown away by this conference, and...   \n",
       "2       And I say that sincerely, partly because (Mock...   \n",
       "3       (Laughter) I flew on Air Force Two for eight y...   \n",
       "4       (Laughter) Now I have to take off my shoes or ...   \n",
       "...                                                   ...   \n",
       "275080  Fungal infections have devastated agriculture ...   \n",
       "275081  Moreover, we are now in an era where the deman...   \n",
       "275082  Our understanding of the molecular mechanism o...   \n",
       "275083                                         Thank you.   \n",
       "275084                                         (Applause)   \n",
       "\n",
       "                                                       fr  \n",
       "0       Merci beaucoup, Chris. C'est vraiment un honne...  \n",
       "1       J'ai été très impressionné par cette conférenc...  \n",
       "2       Et je dis çà sincèrement, en autres parce que ...  \n",
       "3            J'ai volé avec Air Force 2 pendant huit ans.  \n",
       "4       Et maintenant, je dois enlever mes chaussures ...  \n",
       "...                                                   ...  \n",
       "275080  Les infections fongiques ont dévastés nos cult...  \n",
       "275081  Nous vivons en outre dans une époque où la dem...  \n",
       "275082  Notre connaissance des mécanismes moléculaires...  \n",
       "275083                                             Merci.  \n",
       "275084                                 (Applaudissements)  \n",
       "\n",
       "[275085 rows x 2 columns]"
      ]
     },
     "execution_count": 43,
     "metadata": {},
     "output_type": "execute_result"
    }
   ],
   "source": [
    "df_fr_train"
   ]
  },
  {
   "cell_type": "code",
   "execution_count": 44,
   "metadata": {},
   "outputs": [],
   "source": [
    "df_fr_train.to_csv('combined_en_fr_train.csv', index=False)"
   ]
  },
  {
   "cell_type": "code",
   "execution_count": 45,
   "metadata": {},
   "outputs": [],
   "source": [
    "d = pd.read_csv('combined_en_fr_train.csv')"
   ]
  },
  {
   "cell_type": "markdown",
   "metadata": {},
   "source": [
    "## Combine Dev Data"
   ]
  },
  {
   "cell_type": "code",
   "execution_count": 47,
   "metadata": {},
   "outputs": [],
   "source": [
    "with open (\"dev/txt/dev.en\", \"r\") as myfile:\n",
    "    data = myfile.read().splitlines()\n",
    "    \n",
    "with open (\"dev/txt/dev.fr\", \"r\") as myfile:\n",
    "    data_fr = myfile.read().splitlines()\n",
    "    \n",
    "df = pd.DataFrame(data)\n",
    "df_fr = pd.DataFrame(data_fr)\n",
    "df_fr_dev = pd.concat([df,df_fr], axis = 1)\n",
    "df_fr_dev.columns = ['en', 'fr']"
   ]
  },
  {
   "cell_type": "code",
   "execution_count": 51,
   "metadata": {},
   "outputs": [],
   "source": [
    "df_fr_dev.to_csv('combined_en_fr_dev.csv', index=False)"
   ]
  },
  {
   "cell_type": "code",
   "execution_count": 52,
   "metadata": {},
   "outputs": [],
   "source": [
    "d = pd.read_csv('combined_en_fr_dev.csv')"
   ]
  },
  {
   "cell_type": "markdown",
   "metadata": {},
   "source": [
    "## Combine Test Data"
   ]
  },
  {
   "cell_type": "code",
   "execution_count": 54,
   "metadata": {},
   "outputs": [],
   "source": [
    "with open (\"tst-COMMON/txt/tst-COMMON.en\", \"r\") as myfile:\n",
    "    data = myfile.read().splitlines()\n",
    "    \n",
    "with open (\"tst-COMMON/txt/tst-COMMON.fr\", \"r\") as myfile:\n",
    "    data_fr = myfile.read().splitlines()\n",
    "    \n",
    "df = pd.DataFrame(data)\n",
    "df_fr = pd.DataFrame(data_fr)\n",
    "df_fr_tst = pd.concat([df,df_fr], axis = 1)\n",
    "df_fr_tst.columns = ['en', 'fr']"
   ]
  },
  {
   "cell_type": "code",
   "execution_count": 58,
   "metadata": {},
   "outputs": [],
   "source": [
    "df_fr_tst.to_csv('combined_en_fr_tst.csv', index=False)"
   ]
  },
  {
   "cell_type": "code",
   "execution_count": 59,
   "metadata": {},
   "outputs": [],
   "source": [
    "d = pd.read_csv('combined_en_fr_tst.csv')"
   ]
  }
 ],
 "metadata": {
  "kernelspec": {
   "display_name": "Python 3",
   "language": "python",
   "name": "python3"
  },
  "language_info": {
   "codemirror_mode": {
    "name": "ipython",
    "version": 3
   },
   "file_extension": ".py",
   "mimetype": "text/x-python",
   "name": "python",
   "nbconvert_exporter": "python",
   "pygments_lexer": "ipython3",
   "version": "3.8.5"
  }
 },
 "nbformat": 4,
 "nbformat_minor": 4
}
