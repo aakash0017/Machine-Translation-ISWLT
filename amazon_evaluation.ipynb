{
  "nbformat": 4,
  "nbformat_minor": 0,
  "metadata": {
    "colab": {
      "name": "amazon_evaluation.ipynb",
      "provenance": [],
      "authorship_tag": "ABX9TyNz/hnc4Dub7Z0SiNh6DU9U",
      "include_colab_link": true
    },
    "kernelspec": {
      "name": "python3",
      "display_name": "Python 3"
    },
    "language_info": {
      "name": "python"
    },
    "accelerator": "GPU"
  },
  "cells": [
    {
      "cell_type": "markdown",
      "metadata": {
        "id": "view-in-github",
        "colab_type": "text"
      },
      "source": [
        "<a href=\"https://colab.research.google.com/github/aakash0017/Machine-Translation-ISWLT/blob/main/amazon_evaluation.ipynb\" target=\"_parent\"><img src=\"https://colab.research.google.com/assets/colab-badge.svg\" alt=\"Open In Colab\"/></a>"
      ]
    },
    {
      "cell_type": "code",
      "execution_count": null,
      "metadata": {
        "colab": {
          "base_uri": "https://localhost:8080/"
        },
        "id": "8bc7pJ8oVc0R",
        "outputId": "829fcc18-4d5f-43f5-e7df-e69f0fe9376d"
      },
      "outputs": [
        {
          "output_type": "stream",
          "name": "stdout",
          "text": [
            "Cloning into 'Machine-Translation-ISWLT'...\n",
            "remote: Enumerating objects: 165, done.\u001b[K\n",
            "remote: Counting objects: 100% (165/165), done.\u001b[K\n",
            "remote: Compressing objects: 100% (122/122), done.\u001b[K\n",
            "remote: Total 165 (delta 89), reused 85 (delta 37), pack-reused 0\u001b[K\n",
            "Receiving objects: 100% (165/165), 27.52 MiB | 17.27 MiB/s, done.\n",
            "Resolving deltas: 100% (89/89), done.\n"
          ]
        }
      ],
      "source": [
        "!git clone https://github.com/aakash0017/Machine-Translation-ISWLT"
      ]
    },
    {
      "cell_type": "code",
      "source": [
        "%pwd"
      ],
      "metadata": {
        "colab": {
          "base_uri": "https://localhost:8080/",
          "height": 35
        },
        "id": "814RbCfaVssG",
        "outputId": "28ca2617-7a8d-46dc-8543-2e429b53d8e6"
      },
      "execution_count": null,
      "outputs": [
        {
          "output_type": "execute_result",
          "data": {
            "text/plain": [
              "'/content/Machine-Translation-ISWLT/evaluation/predictions/fr'"
            ],
            "application/vnd.google.colaboratory.intrinsic+json": {
              "type": "string"
            }
          },
          "metadata": {},
          "execution_count": 7
        }
      ]
    },
    {
      "cell_type": "code",
      "source": [
        "%cd /content/Machine-Translation-ISWLT/evaluation/predictions/de"
      ],
      "metadata": {
        "colab": {
          "base_uri": "https://localhost:8080/"
        },
        "id": "vR9kTNiUVmK6",
        "outputId": "2ca3047c-32c8-4460-e6e3-b09618a15dab"
      },
      "execution_count": null,
      "outputs": [
        {
          "output_type": "stream",
          "name": "stdout",
          "text": [
            "/content/Machine-Translation-ISWLT/evaluation/predictions/de\n"
          ]
        }
      ]
    },
    {
      "cell_type": "code",
      "source": [
        "!git clone https://github.com/amazon-research/isometric-slt"
      ],
      "metadata": {
        "colab": {
          "base_uri": "https://localhost:8080/"
        },
        "id": "aM48gjcxV1x8",
        "outputId": "73f6dca2-fa50-4305-d30a-afe5d7bf8679"
      },
      "execution_count": null,
      "outputs": [
        {
          "output_type": "stream",
          "name": "stdout",
          "text": [
            "Cloning into 'isometric-slt'...\n",
            "remote: Enumerating objects: 21, done.\u001b[K\n",
            "remote: Counting objects: 100% (21/21), done.\u001b[K\n",
            "remote: Compressing objects: 100% (20/20), done.\u001b[K\n",
            "remote: Total 21 (delta 1), reused 17 (delta 0), pack-reused 0\u001b[K\n",
            "Unpacking objects: 100% (21/21), done.\n"
          ]
        }
      ]
    },
    {
      "cell_type": "code",
      "source": [
        "%cd isometric-slt/scripts"
      ],
      "metadata": {
        "colab": {
          "base_uri": "https://localhost:8080/"
        },
        "id": "bBlqAK_D6H12",
        "outputId": "bdb9dc15-4f29-41da-c1cc-4c3e4b57e70c"
      },
      "execution_count": null,
      "outputs": [
        {
          "output_type": "stream",
          "name": "stdout",
          "text": [
            "/content/Machine-Translation-ISWLT/evaluation/predictions/de/isometric-slt/scripts\n"
          ]
        }
      ]
    },
    {
      "cell_type": "code",
      "source": [
        "!chmod 744 setup-env.sh\n",
        "! ./setup-env.sh"
      ],
      "metadata": {
        "id": "pkc-xYvkWByp"
      },
      "execution_count": null,
      "outputs": []
    },
    {
      "cell_type": "code",
      "source": [
        "!chmod 744 compute_isometric_slt_stat.sh "
      ],
      "metadata": {
        "id": "uhwregP0WDq6"
      },
      "execution_count": null,
      "outputs": []
    },
    {
      "cell_type": "code",
      "source": [
        "\n",
        "! ./compute_isometric_slt_stat.sh de /content/Machine-Translation-ISWLT/evaluation/predictions/de/test.en /content/Machine-Translation-ISWLT/evaluation/predictions/de/test_mt_pred1.de /content/Machine-Translation-ISWLT/evaluation/predictions/de/test.de"
      ],
      "metadata": {
        "colab": {
          "base_uri": "https://localhost:8080/"
        },
        "id": "8kkANxIlWX9a",
        "outputId": "32ebddef-611e-4634-b4a4-41072f612de9"
      },
      "execution_count": null,
      "outputs": [
        {
          "output_type": "stream",
          "name": "stdout",
          "text": [
            "Computing stat for:\n",
            "==> /content/Machine-Translation-ISWLT/evaluation/predictions/de/test.en <==\n",
            "Back in New York, I am the head of development for a non-profit called Robin Hood.\n",
            "When I'm not fighting poverty, I'm fighting fires as the assistant captain of a volunteer fire company.\n",
            "\n",
            "==> /content/Machine-Translation-ISWLT/evaluation/predictions/de/test_mt_pred1.de <==\n",
            "Zurück in New York bin ich der Leiter der Entwicklung für einen gemeinnützigen namens Robin Hood.\n",
            "Wenn ich nicht gegen die Armut bin, werde ich als Assistentin einer Freiwilligen-Brände\n",
            "\n",
            "==> /content/Machine-Translation-ISWLT/evaluation/predictions/de/test.de <==\n",
            "Zu Hause in New York, bin ich Chef der Entwicklungsabteilung einer gemeinnützigen Organisation namens Robin Hood.\n",
            "Wenn ich nicht die Armut bekämpfe, bekämpfe ich als Gehilfe eines Feuerwehr-Hauptmanns bei einem freiwilligen Löschzug das Feuer.\n",
            "Downloading: 100% 52.0/52.0 [00:00<00:00, 57.1kB/s]\n",
            "Downloading: 100% 792/792 [00:00<00:00, 533kB/s]\n",
            "Downloading: 100% 878k/878k [00:00<00:00, 5.24MB/s]\n",
            "Downloading: 100% 446k/446k [00:00<00:00, 3.32MB/s]\n",
            "Downloading: 100% 2.83G/2.83G [01:17<00:00, 39.0MB/s]\n",
            "Some weights of the model checkpoint at microsoft/deberta-xlarge-mnli were not used when initializing DebertaModel: ['pooler.dense.weight', 'classifier.bias', 'classifier.weight', 'pooler.dense.bias']\n",
            "- This IS expected if you are initializing DebertaModel from the checkpoint of a model trained on another task or with another architecture (e.g. initializing a BertForSequenceClassification model from a BertForPreTraining model).\n",
            "- This IS NOT expected if you are initializing DebertaModel from the checkpoint of a model that you expect to be exactly identical (initializing a BertForSequenceClassification model from a BertForSequenceClassification model).\n",
            "Warning: Baseline not Found for microsoft/deberta-xlarge-mnli on de at /usr/local/lib/python3.7/dist-packages/bert_score/rescale_baseline/de/microsoft/deberta-xlarge-mnli.tsv\n",
            "PAIR: en->de \n",
            "INPUT: /content/Machine-Translation-ISWLT/evaluation/predictions/de/test.en \n",
            "MT: /content/Machine-Translation-ISWLT/evaluation/predictions/de/test_mt_pred1.de \n",
            "REF: /content/Machine-Translation-ISWLT/evaluation/predictions/de/test.de\n",
            "                    \n",
            "SACRE Bleu: {\n",
            " \"name\": \"BLEU\",\n",
            " \"score\": 20.8,\n",
            " \"signature\": \"nrefs:1|case:mixed|eff:no|tok:13a|smooth:exp|version:2.0.0\",\n",
            " \"verbose_score\": \"63.7/37.7/24.9/16.9 (BP = 0.656 ratio = 0.704 hyp_len = 36594 ref_len = 52008)\",\n",
            " \"nrefs\": \"1\",\n",
            " \"case\": \"mixed\",\n",
            " \"eff\": \"no\",\n",
            " \"tok\": \"13a\",\n",
            " \"smooth\": \"exp\",\n",
            " \"version\": \"2.0.0\"\n",
            "}\n",
            "                    \n",
            "BERT Score: microsoft/deberta-xlarge-mnli_L40_no-idf_version=0.3.11(hug_trans=4.17.0)-rescaled_fast-tokenizer P: 0.812722 R: 0.776736 F1: 0.792363\n",
            "                    \n",
            "Length Stat: Length Ratio: 0.978, Length Range +-10%: 26.846\n",
            "===\n",
            "\n"
          ]
        }
      ]
    }
  ]
}